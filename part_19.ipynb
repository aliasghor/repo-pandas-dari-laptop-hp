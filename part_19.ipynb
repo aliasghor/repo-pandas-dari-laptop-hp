{
 "cells": [
  {
   "cell_type": "markdown",
   "id": "522e5785",
   "metadata": {},
   "source": [
    "# Part 19"
   ]
  },
  {
   "cell_type": "code",
   "execution_count": 20,
   "id": "7cd0774a",
   "metadata": {},
   "outputs": [],
   "source": [
    "import pandas as pd\n",
    "import numpy as np"
   ]
  },
  {
   "cell_type": "markdown",
   "id": "c2e454ba",
   "metadata": {},
   "source": [
    "# Persiapan Data Frame"
   ]
  },
  {
   "cell_type": "code",
   "execution_count": 21,
   "id": "4a66f8dc",
   "metadata": {},
   "outputs": [
    {
     "data": {
      "text/html": [
       "<div>\n",
       "<style scoped>\n",
       "    .dataframe tbody tr th:only-of-type {\n",
       "        vertical-align: middle;\n",
       "    }\n",
       "\n",
       "    .dataframe tbody tr th {\n",
       "        vertical-align: top;\n",
       "    }\n",
       "\n",
       "    .dataframe thead th {\n",
       "        text-align: right;\n",
       "    }\n",
       "</style>\n",
       "<table border=\"1\" class=\"dataframe\">\n",
       "  <thead>\n",
       "    <tr style=\"text-align: right;\">\n",
       "      <th></th>\n",
       "      <th>omset</th>\n",
       "      <th>operasional</th>\n",
       "    </tr>\n",
       "  </thead>\n",
       "  <tbody>\n",
       "    <tr>\n",
       "      <th>0</th>\n",
       "      <td>17</td>\n",
       "      <td>15</td>\n",
       "    </tr>\n",
       "    <tr>\n",
       "      <th>1</th>\n",
       "      <td>17</td>\n",
       "      <td>3</td>\n",
       "    </tr>\n",
       "    <tr>\n",
       "      <th>2</th>\n",
       "      <td>10</td>\n",
       "      <td>7</td>\n",
       "    </tr>\n",
       "    <tr>\n",
       "      <th>3</th>\n",
       "      <td>17</td>\n",
       "      <td>3</td>\n",
       "    </tr>\n",
       "    <tr>\n",
       "      <th>4</th>\n",
       "      <td>10</td>\n",
       "      <td>6</td>\n",
       "    </tr>\n",
       "  </tbody>\n",
       "</table>\n",
       "</div>"
      ],
      "text/plain": [
       "   omset  operasional\n",
       "0     17           15\n",
       "1     17            3\n",
       "2     10            7\n",
       "3     17            3\n",
       "4     10            6"
      ]
     },
     "execution_count": 21,
     "metadata": {},
     "output_type": "execute_result"
    }
   ],
   "source": [
    "n_rows = 5\n",
    "n_cols = 2\n",
    "cols = ['omset','operasional']\n",
    "\n",
    "df = pd.DataFrame(np.random.randint(1,20,size=(n_rows,n_cols)),columns=cols)\n",
    "df"
   ]
  },
  {
   "cell_type": "code",
   "execution_count": 22,
   "id": "161ab230",
   "metadata": {},
   "outputs": [
    {
     "data": {
      "text/html": [
       "<div>\n",
       "<style scoped>\n",
       "    .dataframe tbody tr th:only-of-type {\n",
       "        vertical-align: middle;\n",
       "    }\n",
       "\n",
       "    .dataframe tbody tr th {\n",
       "        vertical-align: top;\n",
       "    }\n",
       "\n",
       "    .dataframe thead th {\n",
       "        text-align: right;\n",
       "    }\n",
       "</style>\n",
       "<table border=\"1\" class=\"dataframe\">\n",
       "  <thead>\n",
       "    <tr style=\"text-align: right;\">\n",
       "      <th></th>\n",
       "      <th>omset</th>\n",
       "      <th>operasional</th>\n",
       "    </tr>\n",
       "  </thead>\n",
       "  <tbody>\n",
       "    <tr>\n",
       "      <th>0</th>\n",
       "      <td>1700000</td>\n",
       "      <td>150000</td>\n",
       "    </tr>\n",
       "    <tr>\n",
       "      <th>1</th>\n",
       "      <td>1700000</td>\n",
       "      <td>30000</td>\n",
       "    </tr>\n",
       "    <tr>\n",
       "      <th>2</th>\n",
       "      <td>1000000</td>\n",
       "      <td>70000</td>\n",
       "    </tr>\n",
       "    <tr>\n",
       "      <th>3</th>\n",
       "      <td>1700000</td>\n",
       "      <td>30000</td>\n",
       "    </tr>\n",
       "    <tr>\n",
       "      <th>4</th>\n",
       "      <td>1000000</td>\n",
       "      <td>60000</td>\n",
       "    </tr>\n",
       "  </tbody>\n",
       "</table>\n",
       "</div>"
      ],
      "text/plain": [
       "     omset  operasional\n",
       "0  1700000       150000\n",
       "1  1700000        30000\n",
       "2  1000000        70000\n",
       "3  1700000        30000\n",
       "4  1000000        60000"
      ]
     },
     "execution_count": 22,
     "metadata": {},
     "output_type": "execute_result"
    }
   ],
   "source": [
    "df['omset'] = df['omset'] * 100_000\n",
    "df['operasional'] = df['operasional'] * 10_000\n",
    "df"
   ]
  },
  {
   "cell_type": "code",
   "execution_count": 23,
   "id": "a1f832b5",
   "metadata": {},
   "outputs": [
    {
     "data": {
      "text/html": [
       "<div>\n",
       "<style scoped>\n",
       "    .dataframe tbody tr th:only-of-type {\n",
       "        vertical-align: middle;\n",
       "    }\n",
       "\n",
       "    .dataframe tbody tr th {\n",
       "        vertical-align: top;\n",
       "    }\n",
       "\n",
       "    .dataframe thead th {\n",
       "        text-align: right;\n",
       "    }\n",
       "</style>\n",
       "<table border=\"1\" class=\"dataframe\">\n",
       "  <thead>\n",
       "    <tr style=\"text-align: right;\">\n",
       "      <th></th>\n",
       "      <th>tanggal</th>\n",
       "      <th>omset</th>\n",
       "      <th>operasional</th>\n",
       "    </tr>\n",
       "  </thead>\n",
       "  <tbody>\n",
       "    <tr>\n",
       "      <th>0</th>\n",
       "      <td>2000-01-01</td>\n",
       "      <td>1700000</td>\n",
       "      <td>150000</td>\n",
       "    </tr>\n",
       "    <tr>\n",
       "      <th>1</th>\n",
       "      <td>2000-01-02</td>\n",
       "      <td>1700000</td>\n",
       "      <td>30000</td>\n",
       "    </tr>\n",
       "    <tr>\n",
       "      <th>2</th>\n",
       "      <td>2000-01-03</td>\n",
       "      <td>1000000</td>\n",
       "      <td>70000</td>\n",
       "    </tr>\n",
       "    <tr>\n",
       "      <th>3</th>\n",
       "      <td>2000-01-04</td>\n",
       "      <td>1700000</td>\n",
       "      <td>30000</td>\n",
       "    </tr>\n",
       "    <tr>\n",
       "      <th>4</th>\n",
       "      <td>2000-01-05</td>\n",
       "      <td>1000000</td>\n",
       "      <td>60000</td>\n",
       "    </tr>\n",
       "  </tbody>\n",
       "</table>\n",
       "</div>"
      ],
      "text/plain": [
       "     tanggal    omset  operasional\n",
       "0 2000-01-01  1700000       150000\n",
       "1 2000-01-02  1700000        30000\n",
       "2 2000-01-03  1000000        70000\n",
       "3 2000-01-04  1700000        30000\n",
       "4 2000-01-05  1000000        60000"
      ]
     },
     "execution_count": 23,
     "metadata": {},
     "output_type": "execute_result"
    }
   ],
   "source": [
    "df.index = pd.util.testing.makeDateIndex(n_rows,freq='D')\n",
    "df = df.reset_index()\n",
    "df = df.rename(columns={'index':'tanggal'})\n",
    "df"
   ]
  },
  {
   "cell_type": "markdown",
   "id": "538476fd",
   "metadata": {},
   "source": [
    "# Melakukan Formatting Tampilan Data Frame"
   ]
  },
  {
   "cell_type": "code",
   "execution_count": 24,
   "id": "c97647af",
   "metadata": {},
   "outputs": [
    {
     "data": {
      "text/html": [
       "<style type=\"text/css\">\n",
       "</style>\n",
       "<table id=\"T_722a8\">\n",
       "  <thead>\n",
       "    <tr>\n",
       "      <th class=\"blank level0\" >&nbsp;</th>\n",
       "      <th id=\"T_722a8_level0_col0\" class=\"col_heading level0 col0\" >tanggal</th>\n",
       "      <th id=\"T_722a8_level0_col1\" class=\"col_heading level0 col1\" >omset</th>\n",
       "      <th id=\"T_722a8_level0_col2\" class=\"col_heading level0 col2\" >operasional</th>\n",
       "    </tr>\n",
       "  </thead>\n",
       "  <tbody>\n",
       "    <tr>\n",
       "      <th id=\"T_722a8_level0_row0\" class=\"row_heading level0 row0\" >0</th>\n",
       "      <td id=\"T_722a8_row0_col0\" class=\"data row0 col0\" >01/01/00</td>\n",
       "      <td id=\"T_722a8_row0_col1\" class=\"data row0 col1\" >Rp 1700000.00</td>\n",
       "      <td id=\"T_722a8_row0_col2\" class=\"data row0 col2\" >Rp 150000.00</td>\n",
       "    </tr>\n",
       "    <tr>\n",
       "      <th id=\"T_722a8_level0_row1\" class=\"row_heading level0 row1\" >1</th>\n",
       "      <td id=\"T_722a8_row1_col0\" class=\"data row1 col0\" >02/01/00</td>\n",
       "      <td id=\"T_722a8_row1_col1\" class=\"data row1 col1\" >Rp 1700000.00</td>\n",
       "      <td id=\"T_722a8_row1_col2\" class=\"data row1 col2\" >Rp 30000.00</td>\n",
       "    </tr>\n",
       "    <tr>\n",
       "      <th id=\"T_722a8_level0_row2\" class=\"row_heading level0 row2\" >2</th>\n",
       "      <td id=\"T_722a8_row2_col0\" class=\"data row2 col0\" >03/01/00</td>\n",
       "      <td id=\"T_722a8_row2_col1\" class=\"data row2 col1\" >Rp 1000000.00</td>\n",
       "      <td id=\"T_722a8_row2_col2\" class=\"data row2 col2\" >Rp 70000.00</td>\n",
       "    </tr>\n",
       "    <tr>\n",
       "      <th id=\"T_722a8_level0_row3\" class=\"row_heading level0 row3\" >3</th>\n",
       "      <td id=\"T_722a8_row3_col0\" class=\"data row3 col0\" >04/01/00</td>\n",
       "      <td id=\"T_722a8_row3_col1\" class=\"data row3 col1\" >Rp 1700000.00</td>\n",
       "      <td id=\"T_722a8_row3_col2\" class=\"data row3 col2\" >Rp 30000.00</td>\n",
       "    </tr>\n",
       "    <tr>\n",
       "      <th id=\"T_722a8_level0_row4\" class=\"row_heading level0 row4\" >4</th>\n",
       "      <td id=\"T_722a8_row4_col0\" class=\"data row4 col0\" >05/01/00</td>\n",
       "      <td id=\"T_722a8_row4_col1\" class=\"data row4 col1\" >Rp 1000000.00</td>\n",
       "      <td id=\"T_722a8_row4_col2\" class=\"data row4 col2\" >Rp 60000.00</td>\n",
       "    </tr>\n",
       "  </tbody>\n",
       "</table>\n"
      ],
      "text/plain": [
       "<pandas.io.formats.style.Styler at 0x25a93db02d0>"
      ]
     },
     "execution_count": 24,
     "metadata": {},
     "output_type": "execute_result"
    }
   ],
   "source": [
    "formatku = {\n",
    "    \"tanggal\":\"{:%d/%m/%y}\",\n",
    "    \"operasional\":\"Rp {:.2f}\",\n",
    "    \"omset\":\"Rp {:.2f}\"\n",
    "}\n",
    "\n",
    "laporan = df.style.format(formatku)\n",
    "laporan"
   ]
  },
  {
   "cell_type": "code",
   "execution_count": 25,
   "id": "f1e1a685",
   "metadata": {},
   "outputs": [
    {
     "data": {
      "text/plain": [
       "pandas.io.formats.style.Styler"
      ]
     },
     "execution_count": 25,
     "metadata": {},
     "output_type": "execute_result"
    }
   ],
   "source": [
    "type(laporan)\n",
    "# laporan.head() Sudah Bukan Berbentuk Object DataFrame"
   ]
  },
  {
   "cell_type": "code",
   "execution_count": 26,
   "id": "dec4ab5a",
   "metadata": {},
   "outputs": [
    {
     "name": "stderr",
     "output_type": "stream",
     "text": [
      "C:\\Users\\alima\\AppData\\Local\\Temp\\ipykernel_14304\\2689267819.py:1: FutureWarning: this method is deprecated in favour of `Styler.hide(axis=\"index\")`\n",
      "  laporan.hide_index()\n"
     ]
    },
    {
     "data": {
      "text/html": [
       "<style type=\"text/css\">\n",
       "</style>\n",
       "<table id=\"T_722a8\">\n",
       "  <thead>\n",
       "    <tr>\n",
       "      <th id=\"T_722a8_level0_col0\" class=\"col_heading level0 col0\" >tanggal</th>\n",
       "      <th id=\"T_722a8_level0_col1\" class=\"col_heading level0 col1\" >omset</th>\n",
       "      <th id=\"T_722a8_level0_col2\" class=\"col_heading level0 col2\" >operasional</th>\n",
       "    </tr>\n",
       "  </thead>\n",
       "  <tbody>\n",
       "    <tr>\n",
       "      <td id=\"T_722a8_row0_col0\" class=\"data row0 col0\" >01/01/00</td>\n",
       "      <td id=\"T_722a8_row0_col1\" class=\"data row0 col1\" >Rp 1700000.00</td>\n",
       "      <td id=\"T_722a8_row0_col2\" class=\"data row0 col2\" >Rp 150000.00</td>\n",
       "    </tr>\n",
       "    <tr>\n",
       "      <td id=\"T_722a8_row1_col0\" class=\"data row1 col0\" >02/01/00</td>\n",
       "      <td id=\"T_722a8_row1_col1\" class=\"data row1 col1\" >Rp 1700000.00</td>\n",
       "      <td id=\"T_722a8_row1_col2\" class=\"data row1 col2\" >Rp 30000.00</td>\n",
       "    </tr>\n",
       "    <tr>\n",
       "      <td id=\"T_722a8_row2_col0\" class=\"data row2 col0\" >03/01/00</td>\n",
       "      <td id=\"T_722a8_row2_col1\" class=\"data row2 col1\" >Rp 1000000.00</td>\n",
       "      <td id=\"T_722a8_row2_col2\" class=\"data row2 col2\" >Rp 70000.00</td>\n",
       "    </tr>\n",
       "    <tr>\n",
       "      <td id=\"T_722a8_row3_col0\" class=\"data row3 col0\" >04/01/00</td>\n",
       "      <td id=\"T_722a8_row3_col1\" class=\"data row3 col1\" >Rp 1700000.00</td>\n",
       "      <td id=\"T_722a8_row3_col2\" class=\"data row3 col2\" >Rp 30000.00</td>\n",
       "    </tr>\n",
       "    <tr>\n",
       "      <td id=\"T_722a8_row4_col0\" class=\"data row4 col0\" >05/01/00</td>\n",
       "      <td id=\"T_722a8_row4_col1\" class=\"data row4 col1\" >Rp 1000000.00</td>\n",
       "      <td id=\"T_722a8_row4_col2\" class=\"data row4 col2\" >Rp 60000.00</td>\n",
       "    </tr>\n",
       "  </tbody>\n",
       "</table>\n"
      ],
      "text/plain": [
       "<pandas.io.formats.style.Styler at 0x25a93db02d0>"
      ]
     },
     "execution_count": 26,
     "metadata": {},
     "output_type": "execute_result"
    }
   ],
   "source": [
    "laporan.hide_index()"
   ]
  },
  {
   "cell_type": "code",
   "execution_count": 27,
   "id": "956b063e",
   "metadata": {},
   "outputs": [
    {
     "data": {
      "text/html": [
       "<style type=\"text/css\">\n",
       "</style>\n",
       "<table id=\"T_722a8\">\n",
       "  <caption>Laporan Data Omset Dan Operasional</caption>\n",
       "  <thead>\n",
       "    <tr>\n",
       "      <th id=\"T_722a8_level0_col0\" class=\"col_heading level0 col0\" >tanggal</th>\n",
       "      <th id=\"T_722a8_level0_col1\" class=\"col_heading level0 col1\" >omset</th>\n",
       "      <th id=\"T_722a8_level0_col2\" class=\"col_heading level0 col2\" >operasional</th>\n",
       "    </tr>\n",
       "  </thead>\n",
       "  <tbody>\n",
       "    <tr>\n",
       "      <td id=\"T_722a8_row0_col0\" class=\"data row0 col0\" >01/01/00</td>\n",
       "      <td id=\"T_722a8_row0_col1\" class=\"data row0 col1\" >Rp 1700000.00</td>\n",
       "      <td id=\"T_722a8_row0_col2\" class=\"data row0 col2\" >Rp 150000.00</td>\n",
       "    </tr>\n",
       "    <tr>\n",
       "      <td id=\"T_722a8_row1_col0\" class=\"data row1 col0\" >02/01/00</td>\n",
       "      <td id=\"T_722a8_row1_col1\" class=\"data row1 col1\" >Rp 1700000.00</td>\n",
       "      <td id=\"T_722a8_row1_col2\" class=\"data row1 col2\" >Rp 30000.00</td>\n",
       "    </tr>\n",
       "    <tr>\n",
       "      <td id=\"T_722a8_row2_col0\" class=\"data row2 col0\" >03/01/00</td>\n",
       "      <td id=\"T_722a8_row2_col1\" class=\"data row2 col1\" >Rp 1000000.00</td>\n",
       "      <td id=\"T_722a8_row2_col2\" class=\"data row2 col2\" >Rp 70000.00</td>\n",
       "    </tr>\n",
       "    <tr>\n",
       "      <td id=\"T_722a8_row3_col0\" class=\"data row3 col0\" >04/01/00</td>\n",
       "      <td id=\"T_722a8_row3_col1\" class=\"data row3 col1\" >Rp 1700000.00</td>\n",
       "      <td id=\"T_722a8_row3_col2\" class=\"data row3 col2\" >Rp 30000.00</td>\n",
       "    </tr>\n",
       "    <tr>\n",
       "      <td id=\"T_722a8_row4_col0\" class=\"data row4 col0\" >05/01/00</td>\n",
       "      <td id=\"T_722a8_row4_col1\" class=\"data row4 col1\" >Rp 1000000.00</td>\n",
       "      <td id=\"T_722a8_row4_col2\" class=\"data row4 col2\" >Rp 60000.00</td>\n",
       "    </tr>\n",
       "  </tbody>\n",
       "</table>\n"
      ],
      "text/plain": [
       "<pandas.io.formats.style.Styler at 0x25a93db02d0>"
      ]
     },
     "execution_count": 27,
     "metadata": {},
     "output_type": "execute_result"
    }
   ],
   "source": [
    "laporan.set_caption('Laporan Data Omset Dan Operasional')"
   ]
  },
  {
   "cell_type": "code",
   "execution_count": 28,
   "id": "949ef0d0",
   "metadata": {},
   "outputs": [
    {
     "data": {
      "text/html": [
       "<style type=\"text/css\">\n",
       "#T_722a8_row0_col1, #T_722a8_row1_col1, #T_722a8_row3_col1 {\n",
       "  background-color: yellow;\n",
       "}\n",
       "#T_722a8_row0_col2 {\n",
       "  background-color: grey;\n",
       "}\n",
       "#T_722a8_row1_col2, #T_722a8_row3_col2 {\n",
       "  background-color: lightblue;\n",
       "}\n",
       "#T_722a8_row2_col1, #T_722a8_row4_col1 {\n",
       "  background-color: red;\n",
       "}\n",
       "</style>\n",
       "<table id=\"T_722a8\">\n",
       "  <caption>Laporan Data Omset Dan Operasional</caption>\n",
       "  <thead>\n",
       "    <tr>\n",
       "      <th id=\"T_722a8_level0_col0\" class=\"col_heading level0 col0\" >tanggal</th>\n",
       "      <th id=\"T_722a8_level0_col1\" class=\"col_heading level0 col1\" >omset</th>\n",
       "      <th id=\"T_722a8_level0_col2\" class=\"col_heading level0 col2\" >operasional</th>\n",
       "    </tr>\n",
       "  </thead>\n",
       "  <tbody>\n",
       "    <tr>\n",
       "      <td id=\"T_722a8_row0_col0\" class=\"data row0 col0\" >01/01/00</td>\n",
       "      <td id=\"T_722a8_row0_col1\" class=\"data row0 col1\" >Rp 1700000.00</td>\n",
       "      <td id=\"T_722a8_row0_col2\" class=\"data row0 col2\" >Rp 150000.00</td>\n",
       "    </tr>\n",
       "    <tr>\n",
       "      <td id=\"T_722a8_row1_col0\" class=\"data row1 col0\" >02/01/00</td>\n",
       "      <td id=\"T_722a8_row1_col1\" class=\"data row1 col1\" >Rp 1700000.00</td>\n",
       "      <td id=\"T_722a8_row1_col2\" class=\"data row1 col2\" >Rp 30000.00</td>\n",
       "    </tr>\n",
       "    <tr>\n",
       "      <td id=\"T_722a8_row2_col0\" class=\"data row2 col0\" >03/01/00</td>\n",
       "      <td id=\"T_722a8_row2_col1\" class=\"data row2 col1\" >Rp 1000000.00</td>\n",
       "      <td id=\"T_722a8_row2_col2\" class=\"data row2 col2\" >Rp 70000.00</td>\n",
       "    </tr>\n",
       "    <tr>\n",
       "      <td id=\"T_722a8_row3_col0\" class=\"data row3 col0\" >04/01/00</td>\n",
       "      <td id=\"T_722a8_row3_col1\" class=\"data row3 col1\" >Rp 1700000.00</td>\n",
       "      <td id=\"T_722a8_row3_col2\" class=\"data row3 col2\" >Rp 30000.00</td>\n",
       "    </tr>\n",
       "    <tr>\n",
       "      <td id=\"T_722a8_row4_col0\" class=\"data row4 col0\" >05/01/00</td>\n",
       "      <td id=\"T_722a8_row4_col1\" class=\"data row4 col1\" >Rp 1000000.00</td>\n",
       "      <td id=\"T_722a8_row4_col2\" class=\"data row4 col2\" >Rp 60000.00</td>\n",
       "    </tr>\n",
       "  </tbody>\n",
       "</table>\n"
      ],
      "text/plain": [
       "<pandas.io.formats.style.Styler at 0x25a93db02d0>"
      ]
     },
     "execution_count": 28,
     "metadata": {},
     "output_type": "execute_result"
    }
   ],
   "source": [
    "laporan.highlight_min('omset',color='red')\n",
    "laporan.highlight_max('omset',color='yellow')\n",
    "\n",
    "laporan.highlight_min('operasional',color='lightblue')\n",
    "laporan.highlight_max('operasional',color='grey')"
   ]
  }
 ],
 "metadata": {
  "kernelspec": {
   "display_name": "Python 3 (ipykernel)",
   "language": "python",
   "name": "python3"
  },
  "language_info": {
   "codemirror_mode": {
    "name": "ipython",
    "version": 3
   },
   "file_extension": ".py",
   "mimetype": "text/x-python",
   "name": "python",
   "nbconvert_exporter": "python",
   "pygments_lexer": "ipython3",
   "version": "3.11.3"
  }
 },
 "nbformat": 4,
 "nbformat_minor": 5
}
