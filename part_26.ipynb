{
 "cells": [
  {
   "cell_type": "markdown",
   "id": "bfdec96e",
   "metadata": {},
   "source": [
    "# part 26"
   ]
  },
  {
   "cell_type": "code",
   "execution_count": 1,
   "id": "02e842e9",
   "metadata": {},
   "outputs": [],
   "source": [
    "import pandas as pd"
   ]
  },
  {
   "cell_type": "markdown",
   "id": "c92609d6",
   "metadata": {},
   "source": [
    "# Membuat Data Frame dari hasil seleksi Spreadsheet"
   ]
  },
  {
   "cell_type": "code",
   "execution_count": 3,
   "id": "c7838bca",
   "metadata": {},
   "outputs": [
    {
     "data": {
      "text/plain": [
       "'Gk Punya Datanya'"
      ]
     },
     "execution_count": 3,
     "metadata": {},
     "output_type": "execute_result"
    }
   ],
   "source": [
    "\"Gk Punya Datanya\""
   ]
  }
 ],
 "metadata": {
  "kernelspec": {
   "display_name": "Python 3 (ipykernel)",
   "language": "python",
   "name": "python3"
  },
  "language_info": {
   "codemirror_mode": {
    "name": "ipython",
    "version": 3
   },
   "file_extension": ".py",
   "mimetype": "text/x-python",
   "name": "python",
   "nbconvert_exporter": "python",
   "pygments_lexer": "ipython3",
   "version": "3.11.3"
  }
 },
 "nbformat": 4,
 "nbformat_minor": 5
}
