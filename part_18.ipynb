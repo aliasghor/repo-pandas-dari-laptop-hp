{
 "cells": [
  {
   "cell_type": "markdown",
   "id": "a9573ba6",
   "metadata": {},
   "source": [
    "# part 18"
   ]
  },
  {
   "cell_type": "code",
   "execution_count": 1,
   "id": "74619224",
   "metadata": {},
   "outputs": [],
   "source": [
    "import pandas as pd\n",
    "import numpy as np"
   ]
  },
  {
   "cell_type": "markdown",
   "id": "58e83082",
   "metadata": {},
   "source": [
    "# Membentuk Data Frame Dari Dictionary"
   ]
  },
  {
   "cell_type": "code",
   "execution_count": 2,
   "id": "54ed5b6c",
   "metadata": {},
   "outputs": [
    {
     "data": {
      "text/html": [
       "<div>\n",
       "<style scoped>\n",
       "    .dataframe tbody tr th:only-of-type {\n",
       "        vertical-align: middle;\n",
       "    }\n",
       "\n",
       "    .dataframe tbody tr th {\n",
       "        vertical-align: top;\n",
       "    }\n",
       "\n",
       "    .dataframe thead th {\n",
       "        text-align: right;\n",
       "    }\n",
       "</style>\n",
       "<table border=\"1\" class=\"dataframe\">\n",
       "  <thead>\n",
       "    <tr style=\"text-align: right;\">\n",
       "      <th></th>\n",
       "      <th>col1</th>\n",
       "      <th>col2</th>\n",
       "    </tr>\n",
       "  </thead>\n",
       "  <tbody>\n",
       "    <tr>\n",
       "      <th>0</th>\n",
       "      <td>1</td>\n",
       "      <td>5</td>\n",
       "    </tr>\n",
       "    <tr>\n",
       "      <th>1</th>\n",
       "      <td>2</td>\n",
       "      <td>6</td>\n",
       "    </tr>\n",
       "    <tr>\n",
       "      <th>2</th>\n",
       "      <td>3</td>\n",
       "      <td>7</td>\n",
       "    </tr>\n",
       "    <tr>\n",
       "      <th>3</th>\n",
       "      <td>4</td>\n",
       "      <td>8</td>\n",
       "    </tr>\n",
       "  </tbody>\n",
       "</table>\n",
       "</div>"
      ],
      "text/plain": [
       "   col1  col2\n",
       "0     1     5\n",
       "1     2     6\n",
       "2     3     7\n",
       "3     4     8"
      ]
     },
     "execution_count": 2,
     "metadata": {},
     "output_type": "execute_result"
    }
   ],
   "source": [
    "pd.DataFrame(\n",
    "{\n",
    "    \"col1\":[1,2,3,4],\n",
    "    \"col2\":[5,6,7,8]\n",
    "})"
   ]
  },
  {
   "cell_type": "markdown",
   "id": "b469bb4c",
   "metadata": {},
   "source": [
    "# Membentuk Data Frame Dari Numpy Array"
   ]
  },
  {
   "cell_type": "code",
   "execution_count": 4,
   "id": "c1c34e7e",
   "metadata": {},
   "outputs": [
    {
     "data": {
      "text/plain": [
       "array([[ 1,  9, 18],\n",
       "       [13,  9,  8],\n",
       "       [14,  6,  3],\n",
       "       [ 9, 18,  2],\n",
       "       [ 6, 19, 10]])"
      ]
     },
     "execution_count": 4,
     "metadata": {},
     "output_type": "execute_result"
    }
   ],
   "source": [
    "n_rows = 5\n",
    "n_cols = 3\n",
    "\n",
    "arr = np.random.randint(1,20,size=(n_rows,n_cols))\n",
    "arr"
   ]
  },
  {
   "cell_type": "code",
   "execution_count": 5,
   "id": "63f92757",
   "metadata": {},
   "outputs": [
    {
     "data": {
      "text/html": [
       "<div>\n",
       "<style scoped>\n",
       "    .dataframe tbody tr th:only-of-type {\n",
       "        vertical-align: middle;\n",
       "    }\n",
       "\n",
       "    .dataframe tbody tr th {\n",
       "        vertical-align: top;\n",
       "    }\n",
       "\n",
       "    .dataframe thead th {\n",
       "        text-align: right;\n",
       "    }\n",
       "</style>\n",
       "<table border=\"1\" class=\"dataframe\">\n",
       "  <thead>\n",
       "    <tr style=\"text-align: right;\">\n",
       "      <th></th>\n",
       "      <th>A</th>\n",
       "      <th>B</th>\n",
       "      <th>C</th>\n",
       "    </tr>\n",
       "  </thead>\n",
       "  <tbody>\n",
       "    <tr>\n",
       "      <th>0</th>\n",
       "      <td>1</td>\n",
       "      <td>9</td>\n",
       "      <td>18</td>\n",
       "    </tr>\n",
       "    <tr>\n",
       "      <th>1</th>\n",
       "      <td>13</td>\n",
       "      <td>9</td>\n",
       "      <td>8</td>\n",
       "    </tr>\n",
       "    <tr>\n",
       "      <th>2</th>\n",
       "      <td>14</td>\n",
       "      <td>6</td>\n",
       "      <td>3</td>\n",
       "    </tr>\n",
       "    <tr>\n",
       "      <th>3</th>\n",
       "      <td>9</td>\n",
       "      <td>18</td>\n",
       "      <td>2</td>\n",
       "    </tr>\n",
       "    <tr>\n",
       "      <th>4</th>\n",
       "      <td>6</td>\n",
       "      <td>19</td>\n",
       "      <td>10</td>\n",
       "    </tr>\n",
       "  </tbody>\n",
       "</table>\n",
       "</div>"
      ],
      "text/plain": [
       "    A   B   C\n",
       "0   1   9  18\n",
       "1  13   9   8\n",
       "2  14   6   3\n",
       "3   9  18   2\n",
       "4   6  19  10"
      ]
     },
     "execution_count": 5,
     "metadata": {},
     "output_type": "execute_result"
    }
   ],
   "source": [
    "pd.DataFrame(arr,columns=tuple('ABC'))"
   ]
  },
  {
   "cell_type": "markdown",
   "id": "2f8d8954",
   "metadata": {},
   "source": [
    "# Membentuk Data Frame Dengan Memanfaatkan pandas.util.testing"
   ]
  },
  {
   "cell_type": "code",
   "execution_count": 6,
   "id": "2b25d2fa",
   "metadata": {},
   "outputs": [
    {
     "name": "stderr",
     "output_type": "stream",
     "text": [
      "C:\\Users\\alima\\AppData\\Local\\Programs\\Python\\Python311\\Lib\\site-packages\\pandas\\util\\__init__.py:16: FutureWarning: pandas.util.testing is deprecated. Use the functions in the public API at pandas.testing instead.\n",
      "  import pandas.util.testing\n"
     ]
    },
    {
     "data": {
      "text/html": [
       "<div>\n",
       "<style scoped>\n",
       "    .dataframe tbody tr th:only-of-type {\n",
       "        vertical-align: middle;\n",
       "    }\n",
       "\n",
       "    .dataframe tbody tr th {\n",
       "        vertical-align: top;\n",
       "    }\n",
       "\n",
       "    .dataframe thead th {\n",
       "        text-align: right;\n",
       "    }\n",
       "</style>\n",
       "<table border=\"1\" class=\"dataframe\">\n",
       "  <thead>\n",
       "    <tr style=\"text-align: right;\">\n",
       "      <th></th>\n",
       "      <th>A</th>\n",
       "      <th>B</th>\n",
       "      <th>C</th>\n",
       "      <th>D</th>\n",
       "    </tr>\n",
       "  </thead>\n",
       "  <tbody>\n",
       "    <tr>\n",
       "      <th>bW4m8Q3dMo</th>\n",
       "      <td>0.324753</td>\n",
       "      <td>0.308118</td>\n",
       "      <td>1.006142</td>\n",
       "      <td>0.362458</td>\n",
       "    </tr>\n",
       "    <tr>\n",
       "      <th>5WEdkFvd5G</th>\n",
       "      <td>0.210945</td>\n",
       "      <td>-0.620168</td>\n",
       "      <td>-0.582750</td>\n",
       "      <td>0.817599</td>\n",
       "    </tr>\n",
       "    <tr>\n",
       "      <th>Id9SNtzS9A</th>\n",
       "      <td>-0.922882</td>\n",
       "      <td>-0.788910</td>\n",
       "      <td>0.079544</td>\n",
       "      <td>-1.747045</td>\n",
       "    </tr>\n",
       "    <tr>\n",
       "      <th>xqmVvIjUDG</th>\n",
       "      <td>-1.529738</td>\n",
       "      <td>0.761866</td>\n",
       "      <td>0.686348</td>\n",
       "      <td>1.204622</td>\n",
       "    </tr>\n",
       "    <tr>\n",
       "      <th>fUKxSGejy0</th>\n",
       "      <td>0.493082</td>\n",
       "      <td>2.605801</td>\n",
       "      <td>1.952133</td>\n",
       "      <td>-0.278662</td>\n",
       "    </tr>\n",
       "  </tbody>\n",
       "</table>\n",
       "</div>"
      ],
      "text/plain": [
       "                   A         B         C         D\n",
       "bW4m8Q3dMo  0.324753  0.308118  1.006142  0.362458\n",
       "5WEdkFvd5G  0.210945 -0.620168 -0.582750  0.817599\n",
       "Id9SNtzS9A -0.922882 -0.788910  0.079544 -1.747045\n",
       "xqmVvIjUDG -1.529738  0.761866  0.686348  1.204622\n",
       "fUKxSGejy0  0.493082  2.605801  1.952133 -0.278662"
      ]
     },
     "execution_count": 6,
     "metadata": {},
     "output_type": "execute_result"
    }
   ],
   "source": [
    "pd.util.testing.makeDataFrame().head()"
   ]
  },
  {
   "cell_type": "code",
   "execution_count": 7,
   "id": "ec73d2b8",
   "metadata": {},
   "outputs": [
    {
     "data": {
      "text/html": [
       "<div>\n",
       "<style scoped>\n",
       "    .dataframe tbody tr th:only-of-type {\n",
       "        vertical-align: middle;\n",
       "    }\n",
       "\n",
       "    .dataframe tbody tr th {\n",
       "        vertical-align: top;\n",
       "    }\n",
       "\n",
       "    .dataframe thead th {\n",
       "        text-align: right;\n",
       "    }\n",
       "</style>\n",
       "<table border=\"1\" class=\"dataframe\">\n",
       "  <thead>\n",
       "    <tr style=\"text-align: right;\">\n",
       "      <th></th>\n",
       "      <th>A</th>\n",
       "      <th>B</th>\n",
       "      <th>C</th>\n",
       "      <th>D</th>\n",
       "    </tr>\n",
       "  </thead>\n",
       "  <tbody>\n",
       "    <tr>\n",
       "      <th>0</th>\n",
       "      <td>0.0</td>\n",
       "      <td>0.0</td>\n",
       "      <td>foo1</td>\n",
       "      <td>2009-01-01</td>\n",
       "    </tr>\n",
       "    <tr>\n",
       "      <th>1</th>\n",
       "      <td>1.0</td>\n",
       "      <td>1.0</td>\n",
       "      <td>foo2</td>\n",
       "      <td>2009-01-02</td>\n",
       "    </tr>\n",
       "    <tr>\n",
       "      <th>2</th>\n",
       "      <td>2.0</td>\n",
       "      <td>0.0</td>\n",
       "      <td>foo3</td>\n",
       "      <td>2009-01-05</td>\n",
       "    </tr>\n",
       "    <tr>\n",
       "      <th>3</th>\n",
       "      <td>3.0</td>\n",
       "      <td>1.0</td>\n",
       "      <td>foo4</td>\n",
       "      <td>2009-01-06</td>\n",
       "    </tr>\n",
       "    <tr>\n",
       "      <th>4</th>\n",
       "      <td>4.0</td>\n",
       "      <td>0.0</td>\n",
       "      <td>foo5</td>\n",
       "      <td>2009-01-07</td>\n",
       "    </tr>\n",
       "  </tbody>\n",
       "</table>\n",
       "</div>"
      ],
      "text/plain": [
       "     A    B     C          D\n",
       "0  0.0  0.0  foo1 2009-01-01\n",
       "1  1.0  1.0  foo2 2009-01-02\n",
       "2  2.0  0.0  foo3 2009-01-05\n",
       "3  3.0  1.0  foo4 2009-01-06\n",
       "4  4.0  0.0  foo5 2009-01-07"
      ]
     },
     "execution_count": 7,
     "metadata": {},
     "output_type": "execute_result"
    }
   ],
   "source": [
    "pd.util.testing.makeMixedDataFrame().head()"
   ]
  },
  {
   "cell_type": "code",
   "execution_count": 9,
   "id": "5a84fbc4",
   "metadata": {},
   "outputs": [
    {
     "data": {
      "text/html": [
       "<div>\n",
       "<style scoped>\n",
       "    .dataframe tbody tr th:only-of-type {\n",
       "        vertical-align: middle;\n",
       "    }\n",
       "\n",
       "    .dataframe tbody tr th {\n",
       "        vertical-align: top;\n",
       "    }\n",
       "\n",
       "    .dataframe thead th {\n",
       "        text-align: right;\n",
       "    }\n",
       "</style>\n",
       "<table border=\"1\" class=\"dataframe\">\n",
       "  <thead>\n",
       "    <tr style=\"text-align: right;\">\n",
       "      <th></th>\n",
       "      <th>A</th>\n",
       "      <th>B</th>\n",
       "      <th>C</th>\n",
       "      <th>D</th>\n",
       "    </tr>\n",
       "  </thead>\n",
       "  <tbody>\n",
       "    <tr>\n",
       "      <th>2000-01-03</th>\n",
       "      <td>-0.057993</td>\n",
       "      <td>0.826338</td>\n",
       "      <td>-1.530925</td>\n",
       "      <td>-0.858460</td>\n",
       "    </tr>\n",
       "    <tr>\n",
       "      <th>2000-01-04</th>\n",
       "      <td>0.313219</td>\n",
       "      <td>0.431428</td>\n",
       "      <td>-0.214151</td>\n",
       "      <td>-0.568991</td>\n",
       "    </tr>\n",
       "    <tr>\n",
       "      <th>2000-01-05</th>\n",
       "      <td>0.476058</td>\n",
       "      <td>-0.751510</td>\n",
       "      <td>0.043465</td>\n",
       "      <td>-1.243733</td>\n",
       "    </tr>\n",
       "    <tr>\n",
       "      <th>2000-01-06</th>\n",
       "      <td>0.286637</td>\n",
       "      <td>0.034381</td>\n",
       "      <td>-0.439550</td>\n",
       "      <td>1.486145</td>\n",
       "    </tr>\n",
       "    <tr>\n",
       "      <th>2000-01-07</th>\n",
       "      <td>-0.531137</td>\n",
       "      <td>-0.431644</td>\n",
       "      <td>-1.085608</td>\n",
       "      <td>-0.563514</td>\n",
       "    </tr>\n",
       "  </tbody>\n",
       "</table>\n",
       "</div>"
      ],
      "text/plain": [
       "                   A         B         C         D\n",
       "2000-01-03 -0.057993  0.826338 -1.530925 -0.858460\n",
       "2000-01-04  0.313219  0.431428 -0.214151 -0.568991\n",
       "2000-01-05  0.476058 -0.751510  0.043465 -1.243733\n",
       "2000-01-06  0.286637  0.034381 -0.439550  1.486145\n",
       "2000-01-07 -0.531137 -0.431644 -1.085608 -0.563514"
      ]
     },
     "execution_count": 9,
     "metadata": {},
     "output_type": "execute_result"
    }
   ],
   "source": [
    "pd.util.testing.makeTimeDataFrame().head()"
   ]
  },
  {
   "cell_type": "code",
   "execution_count": 11,
   "id": "7c4adf30",
   "metadata": {},
   "outputs": [
    {
     "data": {
      "text/html": [
       "<div>\n",
       "<style scoped>\n",
       "    .dataframe tbody tr th:only-of-type {\n",
       "        vertical-align: middle;\n",
       "    }\n",
       "\n",
       "    .dataframe tbody tr th {\n",
       "        vertical-align: top;\n",
       "    }\n",
       "\n",
       "    .dataframe thead th {\n",
       "        text-align: right;\n",
       "    }\n",
       "</style>\n",
       "<table border=\"1\" class=\"dataframe\">\n",
       "  <thead>\n",
       "    <tr style=\"text-align: right;\">\n",
       "      <th></th>\n",
       "      <th>A</th>\n",
       "      <th>B</th>\n",
       "      <th>C</th>\n",
       "      <th>D</th>\n",
       "    </tr>\n",
       "  </thead>\n",
       "  <tbody>\n",
       "    <tr>\n",
       "      <th>dlFs15ZDaK</th>\n",
       "      <td>0.582414</td>\n",
       "      <td>NaN</td>\n",
       "      <td>0.020843</td>\n",
       "      <td>-0.163966</td>\n",
       "    </tr>\n",
       "    <tr>\n",
       "      <th>92Y2ndl2Hh</th>\n",
       "      <td>-1.063628</td>\n",
       "      <td>NaN</td>\n",
       "      <td>0.036203</td>\n",
       "      <td>0.402888</td>\n",
       "    </tr>\n",
       "    <tr>\n",
       "      <th>4QyW2J2shM</th>\n",
       "      <td>0.549288</td>\n",
       "      <td>0.357605</td>\n",
       "      <td>1.853907</td>\n",
       "      <td>0.173742</td>\n",
       "    </tr>\n",
       "    <tr>\n",
       "      <th>NQVF0ED4h0</th>\n",
       "      <td>0.400940</td>\n",
       "      <td>-0.353324</td>\n",
       "      <td>NaN</td>\n",
       "      <td>-0.724157</td>\n",
       "    </tr>\n",
       "    <tr>\n",
       "      <th>JBKA9m9g6x</th>\n",
       "      <td>-0.507275</td>\n",
       "      <td>-1.447894</td>\n",
       "      <td>0.292138</td>\n",
       "      <td>NaN</td>\n",
       "    </tr>\n",
       "  </tbody>\n",
       "</table>\n",
       "</div>"
      ],
      "text/plain": [
       "                   A         B         C         D\n",
       "dlFs15ZDaK  0.582414       NaN  0.020843 -0.163966\n",
       "92Y2ndl2Hh -1.063628       NaN  0.036203  0.402888\n",
       "4QyW2J2shM  0.549288  0.357605  1.853907  0.173742\n",
       "NQVF0ED4h0  0.400940 -0.353324       NaN -0.724157\n",
       "JBKA9m9g6x -0.507275 -1.447894  0.292138       NaN"
      ]
     },
     "execution_count": 11,
     "metadata": {},
     "output_type": "execute_result"
    }
   ],
   "source": [
    "pd.util.testing.makeMissingDataframe().head()"
   ]
  }
 ],
 "metadata": {
  "kernelspec": {
   "display_name": "Python 3 (ipykernel)",
   "language": "python",
   "name": "python3"
  },
  "language_info": {
   "codemirror_mode": {
    "name": "ipython",
    "version": 3
   },
   "file_extension": ".py",
   "mimetype": "text/x-python",
   "name": "python",
   "nbconvert_exporter": "python",
   "pygments_lexer": "ipython3",
   "version": "3.11.3"
  }
 },
 "nbformat": 4,
 "nbformat_minor": 5
}
