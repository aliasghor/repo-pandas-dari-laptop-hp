{
 "cells": [
  {
   "cell_type": "markdown",
   "id": "db5e1280",
   "metadata": {},
   "source": [
    "# Part 7"
   ]
  },
  {
   "cell_type": "code",
   "execution_count": 30,
   "id": "0a79fd43",
   "metadata": {},
   "outputs": [],
   "source": [
    "import pandas as pd"
   ]
  },
  {
   "cell_type": "markdown",
   "id": "76f88592",
   "metadata": {},
   "source": [
    "# Persiapan Data Frame"
   ]
  },
  {
   "cell_type": "code",
   "execution_count": 31,
   "id": "fe048e63",
   "metadata": {},
   "outputs": [
    {
     "data": {
      "text/html": [
       "<div>\n",
       "<style scoped>\n",
       "    .dataframe tbody tr th:only-of-type {\n",
       "        vertical-align: middle;\n",
       "    }\n",
       "\n",
       "    .dataframe tbody tr th {\n",
       "        vertical-align: top;\n",
       "    }\n",
       "\n",
       "    .dataframe thead th {\n",
       "        text-align: right;\n",
       "    }\n",
       "</style>\n",
       "<table border=\"1\" class=\"dataframe\">\n",
       "  <thead>\n",
       "    <tr style=\"text-align: right;\">\n",
       "      <th></th>\n",
       "      <th>index</th>\n",
       "      <th>A</th>\n",
       "      <th>B</th>\n",
       "      <th>C</th>\n",
       "      <th>D</th>\n",
       "    </tr>\n",
       "  </thead>\n",
       "  <tbody>\n",
       "    <tr>\n",
       "      <th>0</th>\n",
       "      <td>tANQKgJr5x</td>\n",
       "      <td>0.509588</td>\n",
       "      <td>1.199632</td>\n",
       "      <td>0.770454</td>\n",
       "      <td>0.939428</td>\n",
       "    </tr>\n",
       "    <tr>\n",
       "      <th>1</th>\n",
       "      <td>wTJl1Tm9g2</td>\n",
       "      <td>0.401846</td>\n",
       "      <td>-1.242818</td>\n",
       "      <td>0.538492</td>\n",
       "      <td>-0.951673</td>\n",
       "    </tr>\n",
       "    <tr>\n",
       "      <th>2</th>\n",
       "      <td>6q1N1PNAEV</td>\n",
       "      <td>-0.699150</td>\n",
       "      <td>NaN</td>\n",
       "      <td>NaN</td>\n",
       "      <td>NaN</td>\n",
       "    </tr>\n",
       "    <tr>\n",
       "      <th>3</th>\n",
       "      <td>cJtnf7s5jk</td>\n",
       "      <td>-2.446354</td>\n",
       "      <td>0.546417</td>\n",
       "      <td>0.333027</td>\n",
       "      <td>-0.668508</td>\n",
       "    </tr>\n",
       "    <tr>\n",
       "      <th>4</th>\n",
       "      <td>6UzkS3VQNM</td>\n",
       "      <td>-0.013025</td>\n",
       "      <td>-0.518756</td>\n",
       "      <td>0.378948</td>\n",
       "      <td>0.023367</td>\n",
       "    </tr>\n",
       "  </tbody>\n",
       "</table>\n",
       "</div>"
      ],
      "text/plain": [
       "        index         A         B         C         D\n",
       "0  tANQKgJr5x  0.509588  1.199632  0.770454  0.939428\n",
       "1  wTJl1Tm9g2  0.401846 -1.242818  0.538492 -0.951673\n",
       "2  6q1N1PNAEV -0.699150       NaN       NaN       NaN\n",
       "3  cJtnf7s5jk -2.446354  0.546417  0.333027 -0.668508\n",
       "4  6UzkS3VQNM -0.013025 -0.518756  0.378948  0.023367"
      ]
     },
     "execution_count": 31,
     "metadata": {},
     "output_type": "execute_result"
    }
   ],
   "source": [
    "df = pd.util.testing.makeMissingDataframe().reset_index()\n",
    "df.head()"
   ]
  },
  {
   "cell_type": "code",
   "execution_count": 32,
   "id": "a8169a45",
   "metadata": {},
   "outputs": [
    {
     "data": {
      "text/html": [
       "<div>\n",
       "<style scoped>\n",
       "    .dataframe tbody tr th:only-of-type {\n",
       "        vertical-align: middle;\n",
       "    }\n",
       "\n",
       "    .dataframe tbody tr th {\n",
       "        vertical-align: top;\n",
       "    }\n",
       "\n",
       "    .dataframe thead th {\n",
       "        text-align: right;\n",
       "    }\n",
       "</style>\n",
       "<table border=\"1\" class=\"dataframe\">\n",
       "  <thead>\n",
       "    <tr style=\"text-align: right;\">\n",
       "      <th></th>\n",
       "      <th>Z</th>\n",
       "      <th>A</th>\n",
       "      <th>B</th>\n",
       "      <th>C</th>\n",
       "      <th>D</th>\n",
       "    </tr>\n",
       "  </thead>\n",
       "  <tbody>\n",
       "    <tr>\n",
       "      <th>0</th>\n",
       "      <td>tANQKgJr5x</td>\n",
       "      <td>0.509588</td>\n",
       "      <td>1.199632</td>\n",
       "      <td>0.770454</td>\n",
       "      <td>0.939428</td>\n",
       "    </tr>\n",
       "    <tr>\n",
       "      <th>1</th>\n",
       "      <td>wTJl1Tm9g2</td>\n",
       "      <td>0.401846</td>\n",
       "      <td>-1.242818</td>\n",
       "      <td>0.538492</td>\n",
       "      <td>-0.951673</td>\n",
       "    </tr>\n",
       "    <tr>\n",
       "      <th>2</th>\n",
       "      <td>6q1N1PNAEV</td>\n",
       "      <td>-0.699150</td>\n",
       "      <td>NaN</td>\n",
       "      <td>NaN</td>\n",
       "      <td>NaN</td>\n",
       "    </tr>\n",
       "    <tr>\n",
       "      <th>3</th>\n",
       "      <td>cJtnf7s5jk</td>\n",
       "      <td>-2.446354</td>\n",
       "      <td>0.546417</td>\n",
       "      <td>0.333027</td>\n",
       "      <td>-0.668508</td>\n",
       "    </tr>\n",
       "    <tr>\n",
       "      <th>4</th>\n",
       "      <td>6UzkS3VQNM</td>\n",
       "      <td>-0.013025</td>\n",
       "      <td>-0.518756</td>\n",
       "      <td>0.378948</td>\n",
       "      <td>0.023367</td>\n",
       "    </tr>\n",
       "  </tbody>\n",
       "</table>\n",
       "</div>"
      ],
      "text/plain": [
       "            Z         A         B         C         D\n",
       "0  tANQKgJr5x  0.509588  1.199632  0.770454  0.939428\n",
       "1  wTJl1Tm9g2  0.401846 -1.242818  0.538492 -0.951673\n",
       "2  6q1N1PNAEV -0.699150       NaN       NaN       NaN\n",
       "3  cJtnf7s5jk -2.446354  0.546417  0.333027 -0.668508\n",
       "4  6UzkS3VQNM -0.013025 -0.518756  0.378948  0.023367"
      ]
     },
     "execution_count": 32,
     "metadata": {},
     "output_type": "execute_result"
    }
   ],
   "source": [
    "df = df.rename(columns={'index':'Z'})\n",
    "df.head()"
   ]
  },
  {
   "cell_type": "code",
   "execution_count": 33,
   "id": "3035dad2",
   "metadata": {},
   "outputs": [],
   "source": [
    "df_backup = df.copy(deep=True)"
   ]
  },
  {
   "cell_type": "markdown",
   "id": "141cd903",
   "metadata": {},
   "source": [
    "# Menghapus(drop) Setiap Kolom Yang Mengandung Missing Values"
   ]
  },
  {
   "cell_type": "code",
   "execution_count": 34,
   "id": "852b8368",
   "metadata": {},
   "outputs": [
    {
     "data": {
      "text/html": [
       "<div>\n",
       "<style scoped>\n",
       "    .dataframe tbody tr th:only-of-type {\n",
       "        vertical-align: middle;\n",
       "    }\n",
       "\n",
       "    .dataframe tbody tr th {\n",
       "        vertical-align: top;\n",
       "    }\n",
       "\n",
       "    .dataframe thead th {\n",
       "        text-align: right;\n",
       "    }\n",
       "</style>\n",
       "<table border=\"1\" class=\"dataframe\">\n",
       "  <thead>\n",
       "    <tr style=\"text-align: right;\">\n",
       "      <th></th>\n",
       "      <th>Z</th>\n",
       "    </tr>\n",
       "  </thead>\n",
       "  <tbody>\n",
       "    <tr>\n",
       "      <th>0</th>\n",
       "      <td>tANQKgJr5x</td>\n",
       "    </tr>\n",
       "    <tr>\n",
       "      <th>1</th>\n",
       "      <td>wTJl1Tm9g2</td>\n",
       "    </tr>\n",
       "    <tr>\n",
       "      <th>2</th>\n",
       "      <td>6q1N1PNAEV</td>\n",
       "    </tr>\n",
       "    <tr>\n",
       "      <th>3</th>\n",
       "      <td>cJtnf7s5jk</td>\n",
       "    </tr>\n",
       "    <tr>\n",
       "      <th>4</th>\n",
       "      <td>6UzkS3VQNM</td>\n",
       "    </tr>\n",
       "  </tbody>\n",
       "</table>\n",
       "</div>"
      ],
      "text/plain": [
       "            Z\n",
       "0  tANQKgJr5x\n",
       "1  wTJl1Tm9g2\n",
       "2  6q1N1PNAEV\n",
       "3  cJtnf7s5jk\n",
       "4  6UzkS3VQNM"
      ]
     },
     "execution_count": 34,
     "metadata": {},
     "output_type": "execute_result"
    }
   ],
   "source": [
    "df = df.dropna(axis='columns')\n",
    "df.head()"
   ]
  },
  {
   "cell_type": "markdown",
   "id": "aeef0095",
   "metadata": {},
   "source": [
    "# Menghapus(drop) Setiap Baris Yang Mengandung Missing Values"
   ]
  },
  {
   "cell_type": "code",
   "execution_count": 35,
   "id": "364a4378",
   "metadata": {},
   "outputs": [
    {
     "data": {
      "text/html": [
       "<div>\n",
       "<style scoped>\n",
       "    .dataframe tbody tr th:only-of-type {\n",
       "        vertical-align: middle;\n",
       "    }\n",
       "\n",
       "    .dataframe tbody tr th {\n",
       "        vertical-align: top;\n",
       "    }\n",
       "\n",
       "    .dataframe thead th {\n",
       "        text-align: right;\n",
       "    }\n",
       "</style>\n",
       "<table border=\"1\" class=\"dataframe\">\n",
       "  <thead>\n",
       "    <tr style=\"text-align: right;\">\n",
       "      <th></th>\n",
       "      <th>Z</th>\n",
       "      <th>A</th>\n",
       "      <th>B</th>\n",
       "      <th>C</th>\n",
       "      <th>D</th>\n",
       "    </tr>\n",
       "  </thead>\n",
       "  <tbody>\n",
       "    <tr>\n",
       "      <th>0</th>\n",
       "      <td>tANQKgJr5x</td>\n",
       "      <td>0.509588</td>\n",
       "      <td>1.199632</td>\n",
       "      <td>0.770454</td>\n",
       "      <td>0.939428</td>\n",
       "    </tr>\n",
       "    <tr>\n",
       "      <th>1</th>\n",
       "      <td>wTJl1Tm9g2</td>\n",
       "      <td>0.401846</td>\n",
       "      <td>-1.242818</td>\n",
       "      <td>0.538492</td>\n",
       "      <td>-0.951673</td>\n",
       "    </tr>\n",
       "    <tr>\n",
       "      <th>3</th>\n",
       "      <td>cJtnf7s5jk</td>\n",
       "      <td>-2.446354</td>\n",
       "      <td>0.546417</td>\n",
       "      <td>0.333027</td>\n",
       "      <td>-0.668508</td>\n",
       "    </tr>\n",
       "    <tr>\n",
       "      <th>4</th>\n",
       "      <td>6UzkS3VQNM</td>\n",
       "      <td>-0.013025</td>\n",
       "      <td>-0.518756</td>\n",
       "      <td>0.378948</td>\n",
       "      <td>0.023367</td>\n",
       "    </tr>\n",
       "    <tr>\n",
       "      <th>7</th>\n",
       "      <td>gKnnWOy4IV</td>\n",
       "      <td>0.613563</td>\n",
       "      <td>0.322123</td>\n",
       "      <td>0.827871</td>\n",
       "      <td>0.473662</td>\n",
       "    </tr>\n",
       "  </tbody>\n",
       "</table>\n",
       "</div>"
      ],
      "text/plain": [
       "            Z         A         B         C         D\n",
       "0  tANQKgJr5x  0.509588  1.199632  0.770454  0.939428\n",
       "1  wTJl1Tm9g2  0.401846 -1.242818  0.538492 -0.951673\n",
       "3  cJtnf7s5jk -2.446354  0.546417  0.333027 -0.668508\n",
       "4  6UzkS3VQNM -0.013025 -0.518756  0.378948  0.023367\n",
       "7  gKnnWOy4IV  0.613563  0.322123  0.827871  0.473662"
      ]
     },
     "execution_count": 35,
     "metadata": {},
     "output_type": "execute_result"
    }
   ],
   "source": [
    "df = df_backup.copy(deep=True)\n",
    "df = df.dropna(axis='rows')\n",
    "df.head()"
   ]
  },
  {
   "cell_type": "markdown",
   "id": "1fa96cbd",
   "metadata": {},
   "source": [
    "# Persentase Missing Values Untuk Tiap Kolom"
   ]
  },
  {
   "cell_type": "code",
   "execution_count": 36,
   "id": "aefe985d",
   "metadata": {},
   "outputs": [
    {
     "data": {
      "text/plain": [
       "Z    0.000000\n",
       "A    0.066667\n",
       "B    0.066667\n",
       "C    0.100000\n",
       "D    0.166667\n",
       "dtype: float64"
      ]
     },
     "execution_count": 36,
     "metadata": {},
     "output_type": "execute_result"
    }
   ],
   "source": [
    "df = df_backup.copy(deep=True)\n",
    "df.isna().mean()"
   ]
  },
  {
   "cell_type": "markdown",
   "id": "4ef1c02f",
   "metadata": {},
   "source": [
    "# Menghapus (drop) Setiap Kolom Yang Mengandung Missing Values Berdasarkan Threshold"
   ]
  },
  {
   "cell_type": "code",
   "execution_count": 37,
   "id": "2815dd71",
   "metadata": {},
   "outputs": [
    {
     "data": {
      "text/html": [
       "<div>\n",
       "<style scoped>\n",
       "    .dataframe tbody tr th:only-of-type {\n",
       "        vertical-align: middle;\n",
       "    }\n",
       "\n",
       "    .dataframe tbody tr th {\n",
       "        vertical-align: top;\n",
       "    }\n",
       "\n",
       "    .dataframe thead th {\n",
       "        text-align: right;\n",
       "    }\n",
       "</style>\n",
       "<table border=\"1\" class=\"dataframe\">\n",
       "  <thead>\n",
       "    <tr style=\"text-align: right;\">\n",
       "      <th></th>\n",
       "      <th>Z</th>\n",
       "      <th>A</th>\n",
       "      <th>B</th>\n",
       "      <th>C</th>\n",
       "    </tr>\n",
       "  </thead>\n",
       "  <tbody>\n",
       "    <tr>\n",
       "      <th>0</th>\n",
       "      <td>tANQKgJr5x</td>\n",
       "      <td>0.509588</td>\n",
       "      <td>1.199632</td>\n",
       "      <td>0.770454</td>\n",
       "    </tr>\n",
       "    <tr>\n",
       "      <th>1</th>\n",
       "      <td>wTJl1Tm9g2</td>\n",
       "      <td>0.401846</td>\n",
       "      <td>-1.242818</td>\n",
       "      <td>0.538492</td>\n",
       "    </tr>\n",
       "    <tr>\n",
       "      <th>2</th>\n",
       "      <td>6q1N1PNAEV</td>\n",
       "      <td>-0.699150</td>\n",
       "      <td>NaN</td>\n",
       "      <td>NaN</td>\n",
       "    </tr>\n",
       "    <tr>\n",
       "      <th>3</th>\n",
       "      <td>cJtnf7s5jk</td>\n",
       "      <td>-2.446354</td>\n",
       "      <td>0.546417</td>\n",
       "      <td>0.333027</td>\n",
       "    </tr>\n",
       "    <tr>\n",
       "      <th>4</th>\n",
       "      <td>6UzkS3VQNM</td>\n",
       "      <td>-0.013025</td>\n",
       "      <td>-0.518756</td>\n",
       "      <td>0.378948</td>\n",
       "    </tr>\n",
       "  </tbody>\n",
       "</table>\n",
       "</div>"
      ],
      "text/plain": [
       "            Z         A         B         C\n",
       "0  tANQKgJr5x  0.509588  1.199632  0.770454\n",
       "1  wTJl1Tm9g2  0.401846 -1.242818  0.538492\n",
       "2  6q1N1PNAEV -0.699150       NaN       NaN\n",
       "3  cJtnf7s5jk -2.446354  0.546417  0.333027\n",
       "4  6UzkS3VQNM -0.013025 -0.518756  0.378948"
      ]
     },
     "execution_count": 37,
     "metadata": {},
     "output_type": "execute_result"
    }
   ],
   "source": [
    "treshold = len(df) * 0.9\n",
    "df = df.dropna(thresh=treshold,axis='columns')\n",
    "df.head()"
   ]
  },
  {
   "cell_type": "code",
   "execution_count": 38,
   "id": "4a1ac0cf",
   "metadata": {},
   "outputs": [
    {
     "data": {
      "text/html": [
       "<div>\n",
       "<style scoped>\n",
       "    .dataframe tbody tr th:only-of-type {\n",
       "        vertical-align: middle;\n",
       "    }\n",
       "\n",
       "    .dataframe tbody tr th {\n",
       "        vertical-align: top;\n",
       "    }\n",
       "\n",
       "    .dataframe thead th {\n",
       "        text-align: right;\n",
       "    }\n",
       "</style>\n",
       "<table border=\"1\" class=\"dataframe\">\n",
       "  <thead>\n",
       "    <tr style=\"text-align: right;\">\n",
       "      <th></th>\n",
       "      <th>Z</th>\n",
       "      <th>A</th>\n",
       "      <th>B</th>\n",
       "      <th>C</th>\n",
       "    </tr>\n",
       "  </thead>\n",
       "  <tbody>\n",
       "    <tr>\n",
       "      <th>0</th>\n",
       "      <td>tANQKgJr5x</td>\n",
       "      <td>0.509588</td>\n",
       "      <td>1.199632</td>\n",
       "      <td>0.770454</td>\n",
       "    </tr>\n",
       "    <tr>\n",
       "      <th>1</th>\n",
       "      <td>wTJl1Tm9g2</td>\n",
       "      <td>0.401846</td>\n",
       "      <td>-1.242818</td>\n",
       "      <td>0.538492</td>\n",
       "    </tr>\n",
       "    <tr>\n",
       "      <th>3</th>\n",
       "      <td>cJtnf7s5jk</td>\n",
       "      <td>-2.446354</td>\n",
       "      <td>0.546417</td>\n",
       "      <td>0.333027</td>\n",
       "    </tr>\n",
       "    <tr>\n",
       "      <th>4</th>\n",
       "      <td>6UzkS3VQNM</td>\n",
       "      <td>-0.013025</td>\n",
       "      <td>-0.518756</td>\n",
       "      <td>0.378948</td>\n",
       "    </tr>\n",
       "    <tr>\n",
       "      <th>5</th>\n",
       "      <td>hmKRMciU6V</td>\n",
       "      <td>0.801781</td>\n",
       "      <td>-0.514304</td>\n",
       "      <td>-0.499269</td>\n",
       "    </tr>\n",
       "  </tbody>\n",
       "</table>\n",
       "</div>"
      ],
      "text/plain": [
       "            Z         A         B         C\n",
       "0  tANQKgJr5x  0.509588  1.199632  0.770454\n",
       "1  wTJl1Tm9g2  0.401846 -1.242818  0.538492\n",
       "3  cJtnf7s5jk -2.446354  0.546417  0.333027\n",
       "4  6UzkS3VQNM -0.013025 -0.518756  0.378948\n",
       "5  hmKRMciU6V  0.801781 -0.514304 -0.499269"
      ]
     },
     "execution_count": 38,
     "metadata": {},
     "output_type": "execute_result"
    }
   ],
   "source": [
    "df = df.dropna(axis='rows')\n",
    "df.head()"
   ]
  }
 ],
 "metadata": {
  "kernelspec": {
   "display_name": "Python 3 (ipykernel)",
   "language": "python",
   "name": "python3"
  },
  "language_info": {
   "codemirror_mode": {
    "name": "ipython",
    "version": 3
   },
   "file_extension": ".py",
   "mimetype": "text/x-python",
   "name": "python",
   "nbconvert_exporter": "python",
   "pygments_lexer": "ipython3",
   "version": "3.11.3"
  }
 },
 "nbformat": 4,
 "nbformat_minor": 5
}
