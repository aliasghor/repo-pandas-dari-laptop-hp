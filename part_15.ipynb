{
 "cells": [
  {
   "cell_type": "markdown",
   "id": "b833ba18",
   "metadata": {},
   "source": [
    "# Part 15"
   ]
  },
  {
   "cell_type": "code",
   "execution_count": 1,
   "id": "6de45291",
   "metadata": {},
   "outputs": [],
   "source": [
    "import numpy as np\n",
    "import pandas as pd"
   ]
  },
  {
   "cell_type": "markdown",
   "id": "475b315f",
   "metadata": {},
   "source": [
    "# Persiapan Data Frame"
   ]
  },
  {
   "cell_type": "code",
   "execution_count": 6,
   "id": "cc3deb66",
   "metadata": {},
   "outputs": [
    {
     "data": {
      "text/html": [
       "<div>\n",
       "<style scoped>\n",
       "    .dataframe tbody tr th:only-of-type {\n",
       "        vertical-align: middle;\n",
       "    }\n",
       "\n",
       "    .dataframe tbody tr th {\n",
       "        vertical-align: top;\n",
       "    }\n",
       "\n",
       "    .dataframe thead th {\n",
       "        text-align: right;\n",
       "    }\n",
       "</style>\n",
       "<table border=\"1\" class=\"dataframe\">\n",
       "  <thead>\n",
       "    <tr style=\"text-align: right;\">\n",
       "      <th></th>\n",
       "      <th>nama</th>\n",
       "      <th>tempat_kelahiran</th>\n",
       "    </tr>\n",
       "  </thead>\n",
       "  <tbody>\n",
       "    <tr>\n",
       "      <th>0</th>\n",
       "      <td>Ali Asghor</td>\n",
       "      <td>Darmawangsa,Jaksel</td>\n",
       "    </tr>\n",
       "    <tr>\n",
       "      <th>1</th>\n",
       "      <td>Gerry Germog</td>\n",
       "      <td>Sudirman,Jakpus</td>\n",
       "    </tr>\n",
       "    <tr>\n",
       "      <th>2</th>\n",
       "      <td>Pace Pacul</td>\n",
       "      <td>Pantai Indah Kapul,Jakut</td>\n",
       "    </tr>\n",
       "  </tbody>\n",
       "</table>\n",
       "</div>"
      ],
      "text/plain": [
       "           nama          tempat_kelahiran\n",
       "0    Ali Asghor        Darmawangsa,Jaksel\n",
       "1  Gerry Germog           Sudirman,Jakpus\n",
       "2    Pace Pacul  Pantai Indah Kapul,Jakut"
      ]
     },
     "execution_count": 6,
     "metadata": {},
     "output_type": "execute_result"
    }
   ],
   "source": [
    "data = {\n",
    "    \"nama\":[\"Ali Asghor\",\"Gerry Germog\",\"Pace Pacul\"],\n",
    "    \"tempat_kelahiran\":['Darmawangsa,Jaksel','Sudirman,Jakpus','Pantai Indah Kapul,Jakut']\n",
    "}\n",
    "df = pd.DataFrame(data)\n",
    "df"
   ]
  },
  {
   "cell_type": "markdown",
   "id": "9a87e401",
   "metadata": {},
   "source": [
    "# Memecah Nama Depan Dan Nama Belakang"
   ]
  },
  {
   "cell_type": "code",
   "execution_count": 11,
   "id": "232e6f60",
   "metadata": {},
   "outputs": [
    {
     "data": {
      "text/html": [
       "<div>\n",
       "<style scoped>\n",
       "    .dataframe tbody tr th:only-of-type {\n",
       "        vertical-align: middle;\n",
       "    }\n",
       "\n",
       "    .dataframe tbody tr th {\n",
       "        vertical-align: top;\n",
       "    }\n",
       "\n",
       "    .dataframe thead th {\n",
       "        text-align: right;\n",
       "    }\n",
       "</style>\n",
       "<table border=\"1\" class=\"dataframe\">\n",
       "  <thead>\n",
       "    <tr style=\"text-align: right;\">\n",
       "      <th></th>\n",
       "      <th>nama</th>\n",
       "      <th>tempat_kelahiran</th>\n",
       "      <th>nama_depan</th>\n",
       "      <th>nama_belakang</th>\n",
       "      <th>tempat_lahir</th>\n",
       "      <th>nama_kota</th>\n",
       "    </tr>\n",
       "  </thead>\n",
       "  <tbody>\n",
       "    <tr>\n",
       "      <th>0</th>\n",
       "      <td>Ali Asghor</td>\n",
       "      <td>Darmawangsa,Jaksel</td>\n",
       "      <td>Ali</td>\n",
       "      <td>Asghor</td>\n",
       "      <td>Darmawangsa</td>\n",
       "      <td>Jaksel</td>\n",
       "    </tr>\n",
       "    <tr>\n",
       "      <th>1</th>\n",
       "      <td>Gerry Germog</td>\n",
       "      <td>Sudirman,Jakpus</td>\n",
       "      <td>Gerry</td>\n",
       "      <td>Germog</td>\n",
       "      <td>Sudirman</td>\n",
       "      <td>Jakpus</td>\n",
       "    </tr>\n",
       "    <tr>\n",
       "      <th>2</th>\n",
       "      <td>Pace Pacul</td>\n",
       "      <td>Pantai Indah Kapul,Jakut</td>\n",
       "      <td>Pace</td>\n",
       "      <td>Pacul</td>\n",
       "      <td>Pantai Indah Kapul</td>\n",
       "      <td>Jakut</td>\n",
       "    </tr>\n",
       "  </tbody>\n",
       "</table>\n",
       "</div>"
      ],
      "text/plain": [
       "           nama          tempat_kelahiran nama_depan nama_belakang  \\\n",
       "0    Ali Asghor        Darmawangsa,Jaksel        Ali        Asghor   \n",
       "1  Gerry Germog           Sudirman,Jakpus      Gerry        Germog   \n",
       "2    Pace Pacul  Pantai Indah Kapul,Jakut       Pace         Pacul   \n",
       "\n",
       "         tempat_lahir nama_kota  \n",
       "0         Darmawangsa    Jaksel  \n",
       "1            Sudirman    Jakpus  \n",
       "2  Pantai Indah Kapul     Jakut  "
      ]
     },
     "execution_count": 11,
     "metadata": {},
     "output_type": "execute_result"
    }
   ],
   "source": [
    "df[['nama_depan','nama_belakang']] = df['nama'].str.split(' ',expand=True)\n",
    "df"
   ]
  },
  {
   "cell_type": "markdown",
   "id": "9030b3f1",
   "metadata": {},
   "source": [
    "# Memecah tempat_kelahiran Menjadi Dua Column Berbeda"
   ]
  },
  {
   "cell_type": "code",
   "execution_count": 10,
   "id": "aee8f686",
   "metadata": {},
   "outputs": [
    {
     "data": {
      "text/html": [
       "<div>\n",
       "<style scoped>\n",
       "    .dataframe tbody tr th:only-of-type {\n",
       "        vertical-align: middle;\n",
       "    }\n",
       "\n",
       "    .dataframe tbody tr th {\n",
       "        vertical-align: top;\n",
       "    }\n",
       "\n",
       "    .dataframe thead th {\n",
       "        text-align: right;\n",
       "    }\n",
       "</style>\n",
       "<table border=\"1\" class=\"dataframe\">\n",
       "  <thead>\n",
       "    <tr style=\"text-align: right;\">\n",
       "      <th></th>\n",
       "      <th>nama</th>\n",
       "      <th>tempat_kelahiran</th>\n",
       "      <th>nama_depan</th>\n",
       "      <th>nama_belakang</th>\n",
       "      <th>tempat_lahir</th>\n",
       "      <th>nama_kota</th>\n",
       "    </tr>\n",
       "  </thead>\n",
       "  <tbody>\n",
       "    <tr>\n",
       "      <th>0</th>\n",
       "      <td>Ali Asghor</td>\n",
       "      <td>Darmawangsa,Jaksel</td>\n",
       "      <td>Ali</td>\n",
       "      <td>Asghor</td>\n",
       "      <td>Darmawangsa</td>\n",
       "      <td>Jaksel</td>\n",
       "    </tr>\n",
       "    <tr>\n",
       "      <th>1</th>\n",
       "      <td>Gerry Germog</td>\n",
       "      <td>Sudirman,Jakpus</td>\n",
       "      <td>Gerry</td>\n",
       "      <td>Germog</td>\n",
       "      <td>Sudirman</td>\n",
       "      <td>Jakpus</td>\n",
       "    </tr>\n",
       "    <tr>\n",
       "      <th>2</th>\n",
       "      <td>Pace Pacul</td>\n",
       "      <td>Pantai Indah Kapul,Jakut</td>\n",
       "      <td>Pace</td>\n",
       "      <td>Pacul</td>\n",
       "      <td>Pantai Indah Kapul</td>\n",
       "      <td>Jakut</td>\n",
       "    </tr>\n",
       "  </tbody>\n",
       "</table>\n",
       "</div>"
      ],
      "text/plain": [
       "           nama          tempat_kelahiran nama_depan nama_belakang  \\\n",
       "0    Ali Asghor        Darmawangsa,Jaksel        Ali        Asghor   \n",
       "1  Gerry Germog           Sudirman,Jakpus      Gerry        Germog   \n",
       "2    Pace Pacul  Pantai Indah Kapul,Jakut       Pace         Pacul   \n",
       "\n",
       "         tempat_lahir nama_kota  \n",
       "0         Darmawangsa    Jaksel  \n",
       "1            Sudirman    Jakpus  \n",
       "2  Pantai Indah Kapul     Jakut  "
      ]
     },
     "execution_count": 10,
     "metadata": {},
     "output_type": "execute_result"
    }
   ],
   "source": [
    "df[['tempat_lahir','nama_kota']] = df['tempat_kelahiran'].str.split(',',expand=True)\n",
    "df"
   ]
  }
 ],
 "metadata": {
  "kernelspec": {
   "display_name": "Python 3 (ipykernel)",
   "language": "python",
   "name": "python3"
  },
  "language_info": {
   "codemirror_mode": {
    "name": "ipython",
    "version": 3
   },
   "file_extension": ".py",
   "mimetype": "text/x-python",
   "name": "python",
   "nbconvert_exporter": "python",
   "pygments_lexer": "ipython3",
   "version": "3.11.3"
  }
 },
 "nbformat": 4,
 "nbformat_minor": 5
}
